{
 "cells": [
  {
   "cell_type": "markdown",
   "id": "a9084782",
   "metadata": {},
   "source": [
    "# Chapter 4: Data Elements\n",
    "---"
   ]
  },
  {
   "cell_type": "markdown",
   "id": "10170b20",
   "metadata": {},
   "source": [
    "- Hi! So, in the last chapter, we learnt much about Streamlit's Text Elements. Now, we will also learn how to utilise the coolest parts of Streamlit, the Data Elements."
   ]
  },
  {
   "cell_type": "markdown",
   "id": "eb7bfcca",
   "metadata": {},
   "source": [
    "- Data is information such as facts, numbers, figures etc. which we can manipulate. We can represent it in clean ways. Streamlit's Data Elements provide visually stunning ways to show data."
   ]
  },
  {
   "cell_type": "markdown",
   "id": "fbdeb9b7",
   "metadata": {},
   "source": [
    "- Here's a list of all the native components inside the Data Elements category."
   ]
  },
  {
   "cell_type": "markdown",
   "id": "51f9aedc",
   "metadata": {},
   "source": [
    "<img src=\"../media/data_elements_1.png\"></img>"
   ]
  },
  {
   "cell_type": "markdown",
   "id": "47759597",
   "metadata": {},
   "source": [
    "- So, let's get started on learning about these Data Elements."
   ]
  },
  {
   "cell_type": "markdown",
   "id": "fa6fd7d5",
   "metadata": {},
   "source": [
    "##### `st.dataframe`\n",
    "---"
   ]
  },
  {
   "cell_type": "markdown",
   "id": "917721d0",
   "metadata": {},
   "source": [
    "- Displays a dataframe as an interactive table. This improves the UX and makes it cool."
   ]
  },
  {
   "cell_type": "markdown",
   "id": "dff4103e",
   "metadata": {},
   "source": [
    "- You can even hover to the top-right corner of the table and get options to download the table as a `CSV/Comma-Seperated Values` worksheet, search for values and view fullscreen."
   ]
  },
  {
   "cell_type": "markdown",
   "id": "33c4e7ae",
   "metadata": {},
   "source": [
    "- It is best used with certain DataFrame-like objects of some libraries such as `pandas`, `polars` and `snowflake`. The most common example is the well-used `pandas.DataFrame` class."
   ]
  },
  {
   "cell_type": "markdown",
   "id": "10fd11ee",
   "metadata": {},
   "source": [
    "- You can pass the DataFrame object in the `data` parameter. Streamlit will automatically apply and render it."
   ]
  },
  {
   "cell_type": "markdown",
   "id": "321c6c21",
   "metadata": {},
   "source": [
    "- The function signature is:\n",
    "st.dataframe(\n",
    "    `data` = `None`,\n",
    "    `width` = `\"stretch\"`.\n",
    "    `height` = `\"auto\"`,\n",
    "    `use_container_width` = `None`,\n",
    "    `hide_index` = `None`,\n",
    "    `column_order` = `None`,\n",
    "    `column_config` = `None`,\n",
    "    `key` = `None`,\n",
    "    `on_select` = `\"ignore\"`,\n",
    "    `selection_mode` = `\"multi-row\"`,\n",
    "    `row_height` = `None`\n",
    ")\n"
   ]
  },
  {
   "cell_type": "markdown",
   "id": "1955666f",
   "metadata": {},
   "source": [
    "- Among these, `use_container_width` is deprecated. It is generally best to avoid using it. An alternative if you really have to set `use_container_width` to `True` is `width` = `\"stretch\"`."
   ]
  },
  {
   "cell_type": "markdown",
   "id": "63a75e84",
   "metadata": {},
   "source": [
    "- An example is:"
   ]
  },
  {
   "cell_type": "code",
   "execution_count": null,
   "id": "c616a513",
   "metadata": {},
   "outputs": [],
   "source": [
    "import pandas as pd\n",
    "import streamlit as st\n",
    "from numpy.random import default_rng as rng\n",
    "\n",
    "df = pd.DataFrame(\n",
    "    rng(0).standard_normal((8, 4)), columns=(\"col %d\" % i for i in range(4))\n",
    ") # This DataFrame generates random numbers. There are 8 rows and 3 columns.\n",
    "\n",
    "st.dataframe(df)\n"
   ]
  },
  {
   "cell_type": "markdown",
   "id": "fbbd84e9",
   "metadata": {},
   "source": [
    "<img src=\"../media/data_elements_2.png\"></img>"
   ]
  },
  {
   "cell_type": "markdown",
   "id": "a470429a",
   "metadata": {},
   "source": [
    "- ##### Note: This topic will get too much advanced. As this book targets simplicity, not all sorts of examples will be covered. So, you can explore more of some examples in [here](https://docs.streamlit.io/develop/api-reference/data/st.dataframe)."
   ]
  },
  {
   "cell_type": "markdown",
   "id": "cca9c3a3",
   "metadata": {},
   "source": [
    "##### `st.data_editor`\n",
    "---"
   ]
  },
  {
   "cell_type": "markdown",
   "id": "bf8f87c1",
   "metadata": {},
   "source": [
    "- Displays a data editor widget. As we explored before, the `st.dataframe` displays a DataFrame in a tabular form. But the `st.data_editor` widget allows us to create a similar table, but with the ability to modify data. You can do this by double-clicking on a cell, editing its contents and clicking anywhere outside the modified cell."
   ]
  },
  {
   "cell_type": "markdown",
   "id": "97bd93fb",
   "metadata": {},
   "source": [
    "- The funtction signature is: st.data_editor(\n",
    "    `data`,\n",
    "    `width` = `\"stretch\"` , \n",
    "    `height` = `\"auto\"`,\n",
    "    `use_container_width` = `None`,\n",
    "    `hide_index` = `None`,\n",
    "    `column_order` = `None`,\n",
    "    `column_config` = `None`,\n",
    "    `num_rows` = `\"fixed\"`,\n",
    "    `disabled` = `False`,\n",
    "    `key` = `None`,\n",
    "    `on_change` = `None`,\n",
    "    `args` = `None`,\n",
    "    `kwargs` = `None`,\n",
    "    `row_height` = `None`\n",
    ")\n"
   ]
  },
  {
   "cell_type": "markdown",
   "id": "9450217c",
   "metadata": {},
   "source": [
    "- One of the most basic example with live updating is:"
   ]
  },
  {
   "cell_type": "code",
   "execution_count": null,
   "id": "99395b2d",
   "metadata": {},
   "outputs": [],
   "source": [
    "import pandas as pd\n",
    "import streamlit as st\n",
    "\n",
    "df = pd.DataFrame(\n",
    "    [\n",
    "        {\"command\": \"st.selectbox\", \"rating\": 4, \"is_widget\": True},\n",
    "        {\"command\": \"st.balloons\", \"rating\": 5, \"is_widget\": False},\n",
    "        {\"command\": \"st.time_input\", \"rating\": 3, \"is_widget\": True},\n",
    "    ]\n",
    ") # Our DataFrame\n",
    "\n",
    "edited_df = st.data_editor(df) # Load the `df` here\n",
    "\n",
    "# This changes live\n",
    "favorite_command = edited_df.loc[edited_df[\"rating\"].idxmax()][\"command\"]\n",
    "# Accordingly so does this\n",
    "st.markdown(f\"Your favorite command is **{favorite_command}** 🎈\")\n"
   ]
  },
  {
   "cell_type": "markdown",
   "id": "53d971ce",
   "metadata": {},
   "source": [
    "<img src=\"../media/data_elements_3.png\"></img>"
   ]
  }
 ],
 "metadata": {
  "language_info": {
   "name": "python"
  }
 },
 "nbformat": 4,
 "nbformat_minor": 5
}
