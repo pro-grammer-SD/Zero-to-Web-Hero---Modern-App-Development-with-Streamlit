{
 "cells": [
  {
   "cell_type": "markdown",
   "id": "f71c37ea",
   "metadata": {},
   "source": [
    "# Chapter 2: Components - Starting with Write and Magic\n",
    "---"
   ]
  },
  {
   "cell_type": "markdown",
   "id": "33b79e6e",
   "metadata": {},
   "source": [
    "In these chapters, we are going to explore many components. For this chapter, we will focus on 'Write and Magic' components."
   ]
  },
  {
   "cell_type": "markdown",
   "id": "3595eb97",
   "metadata": {},
   "source": [
    "<img src=\"../media/write_and_magic_1.png\"></img>"
   ]
  },
  {
   "cell_type": "markdown",
   "id": "4c8ce5c4",
   "metadata": {},
   "source": [
    "### What's the meaning of 'Write and Magic'?\n",
    "---"
   ]
  },
  {
   "cell_type": "markdown",
   "id": "19eed159",
   "metadata": {},
   "source": [
    "- `Write and Magic` refers to components to display text and beautiful, informative widgets. These are an important part in Streamlit."
   ]
  },
  {
   "cell_type": "markdown",
   "id": "08c43b5b",
   "metadata": {},
   "source": [
    "### What are the components inside this collection?\n",
    "---"
   ]
  },
  {
   "cell_type": "markdown",
   "id": "7b60e0e6",
   "metadata": {},
   "source": [
    "- There are <b>3</b> components inside the `Write and Magic` collection. They are:\n",
    "    - st.write\n",
    "    - st.write_stream\n",
    "    - Magic\n",
    "\n",
    "Here, `st` refers to Streamlit imported. This is a common convention, in the form of:"
   ]
  },
  {
   "cell_type": "code",
   "execution_count": null,
   "id": "199936c3",
   "metadata": {},
   "outputs": [],
   "source": [
    "import streamlit as st\n",
    "# more code ..."
   ]
  },
  {
   "cell_type": "markdown",
   "id": "4e635653",
   "metadata": {},
   "source": [
    "##### `st.write`\n",
    "---"
   ]
  },
  {
   "cell_type": "markdown",
   "id": "d52c270f",
   "metadata": {},
   "source": [
    "- Used to render text in the body of the web app. This can optionally run HTML by setting `unsafe_allow_html` to `True`, though you CAN use `st.html` for rendering HTML or CSS but without Markdown text."
   ]
  },
  {
   "cell_type": "markdown",
   "id": "08e776e0",
   "metadata": {},
   "source": [
    "- Function signature: st.write(`*args`, `unsafe_allow_html=False`)"
   ]
  },
  {
   "cell_type": "markdown",
   "id": "c044efaa",
   "metadata": {},
   "source": [
    "- A basic example of this is as follows:"
   ]
  },
  {
   "cell_type": "code",
   "execution_count": null,
   "id": "6f893f26",
   "metadata": {},
   "outputs": [],
   "source": [
    "import streamlit as st\n",
    "import pandas as pd\n",
    "\n",
    "st.write(\"Hello, *World!* :sunglasses:\") # Writing some text\n",
    "st.write(pd.DataFrame({\n",
    "    \"first column\": [1, 2, 3, 4],\n",
    "    \"second column\": [10, 20, 30, 40],\n",
    "})) # Now a Pandas DataFrame\n"
   ]
  },
  {
   "cell_type": "markdown",
   "id": "58ffbffd",
   "metadata": {},
   "source": [
    "<img src=\"../media/write_and_magic_2.png\"></img>"
   ]
  },
  {
   "cell_type": "markdown",
   "id": "a87cdc7c",
   "metadata": {},
   "source": [
    "##### `st.write_stream`\n",
    "---"
   ]
  },
  {
   "cell_type": "markdown",
   "id": "6cd9f479",
   "metadata": {},
   "source": [
    "- Used to stream a generator or an iterable. Best used for AI-based applications."
   ]
  },
  {
   "cell_type": "markdown",
   "id": "4cc5b0d3",
   "metadata": {},
   "source": [
    "- A good fact is that this can render different sorts of data, which is pretty useful."
   ]
  },
  {
   "cell_type": "markdown",
   "id": "38d904d8",
   "metadata": {},
   "source": [
    "- Function signature: st.write_stream(stream)"
   ]
  },
  {
   "cell_type": "markdown",
   "id": "14b4a716",
   "metadata": {},
   "source": [
    "- A basic example is as follows:"
   ]
  },
  {
   "cell_type": "code",
   "execution_count": null,
   "id": "69c49cb3",
   "metadata": {},
   "outputs": [],
   "source": [
    "import time\n",
    "import numpy as np\n",
    "import pandas as pd\n",
    "import streamlit as st\n",
    "\n",
    "_LOREM_IPSUM = \"\"\"\n",
    "Lorem ipsum dolor sit amet, **consectetur adipiscing** elit, sed do eiusmod tempor\n",
    "incididunt ut labore et dolore magna aliqua. Ut enim ad minim veniam, quis\n",
    "nostrud exercitation ullamco laboris nisi ut aliquip ex ea commodo consequat.\n",
    "\"\"\"\n",
    "\n",
    "\n",
    "def stream_data(): # The generator yielding data\n",
    "    for word in _LOREM_IPSUM.split(\" \"):\n",
    "        yield word + \" \"\n",
    "        time.sleep(0.02)\n",
    "\n",
    "    yield pd.DataFrame(\n",
    "        np.random.randn(5, 10),\n",
    "        columns=[\"a\", \"b\", \"c\", \"d\", \"e\", \"f\", \"g\", \"h\", \"i\", \"j\"],\n",
    "    )\n",
    "\n",
    "    for word in _LOREM_IPSUM.split(\" \"):\n",
    "        yield word + \" \"\n",
    "        time.sleep(0.02)\n",
    "\n",
    "st.write_stream(stream_data)\n"
   ]
  },
  {
   "cell_type": "markdown",
   "id": "f4f2522b",
   "metadata": {},
   "source": [
    "[▶ Watch the video](https://raw.githubusercontent.com/pro-grammer-SD/Zero-to-Web-Hero---Modern-App-Development-with-Streamlit/main/media/write_and_magic_3.mp4)\n"
   ]
  },
  {
   "cell_type": "markdown",
   "id": "04749e8d",
   "metadata": {},
   "source": [
    "##### `Magic`\n",
    "---"
   ]
  },
  {
   "cell_type": "markdown",
   "id": "c9ba2281",
   "metadata": {},
   "source": [
    "- It is a handy feature in Streamlit that allows you to create any type of data without specifying a proper command."
   ]
  },
  {
   "cell_type": "markdown",
   "id": "f8e03e75",
   "metadata": {},
   "source": [
    "- You just have to type in the data or literal and it will magically appear in your app's body."
   ]
  },
  {
   "cell_type": "markdown",
   "id": "de48ba75",
   "metadata": {},
   "source": [
    "- An explanation is given below:"
   ]
  },
  {
   "cell_type": "code",
   "execution_count": null,
   "id": "99a7fb16",
   "metadata": {},
   "outputs": [],
   "source": [
    "import pandas as pd\n",
    "df = pd.DataFrame({'col1': [1,2,3]}) # Instantiating a simple DataFrame\n",
    "df # This is where the magic happens\n"
   ]
  },
  {
   "cell_type": "markdown",
   "id": "af9a0f58",
   "metadata": {},
   "source": [
    "<img src=\"../media/write_and_magic_4.png\"></img>"
   ]
  },
  {
   "cell_type": "markdown",
   "id": "c67877e5",
   "metadata": {},
   "source": [
    "In the above code, in the 3rd line with only the literal `df`, Streamlit automatically detects it and renders it without any member functions to make it appear, with the help of `st.write`. This makes code neater and cooler."
   ]
  },
  {
   "cell_type": "markdown",
   "id": "df676547",
   "metadata": {},
   "source": [
    "- You can always turn Magic off by going to the directory `~/.streamlit/config.toml` with this setting:"
   ]
  },
  {
   "cell_type": "raw",
   "id": "4d831c3e",
   "metadata": {
    "vscode": {
     "languageId": "raw"
    }
   },
   "source": [
    "[runner]\n",
    "magicEnabled = false\n"
   ]
  },
  {
   "cell_type": "markdown",
   "id": "987e2599",
   "metadata": {},
   "source": [
    "## Summary:\n",
    "---\n",
    "<details>\n",
    "  <summary>st.write:</summary>\n",
    "    We learnt how to write text and DataFrames with st.write.\n",
    "</details>\n",
    "<details>\n",
    "  <summary>st.write_stream:</summary>\n",
    "    We learnt how to stream data from generators using st.write_stream.\n",
    "</details>\n",
    "<details>\n",
    "  <summary>Magic:</summary>\n",
    "    We learnt how to use Streamlit's native `Magic` feature to create neater code.\n",
    "</details>\n"
   ]
  }
 ],
 "metadata": {
  "kernelspec": {
   "display_name": "Python 3",
   "language": "python",
   "name": "python3"
  },
  "language_info": {
   "codemirror_mode": {
    "name": "ipython",
    "version": 3
   },
   "file_extension": ".py",
   "mimetype": "text/x-python",
   "name": "python",
   "nbconvert_exporter": "python",
   "pygments_lexer": "ipython3",
   "version": "3.13.5"
  }
 },
 "nbformat": 4,
 "nbformat_minor": 5
}
