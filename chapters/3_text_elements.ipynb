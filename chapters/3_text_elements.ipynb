{
 "cells": [
  {
   "cell_type": "markdown",
   "id": "36b02245",
   "metadata": {},
   "source": [
    "# Chapter 3: Text Elements\n",
    "---"
   ]
  },
  {
   "cell_type": "markdown",
   "id": "ad6b0e7c",
   "metadata": {},
   "source": [
    "Hello and welcome back! In this chapter, we are going to continue learning more about Components. In this chapter, we are going to learn about Text Elements."
   ]
  },
  {
   "cell_type": "markdown",
   "id": "938c2b9b",
   "metadata": {},
   "source": [
    "So, you might have been familiar with HTML elements such as `h1`, `h2`, `p`, right? Well, what Streamlit did, is that they created components by implementing these existing tags to make a cooler text system. They not only used these HTML elements, but they even extended this to many other components, including `LaTeX`! We will now start exploring such text elements."
   ]
  },
  {
   "cell_type": "markdown",
   "id": "a0646646",
   "metadata": {},
   "source": [
    "<img src=\"../media/text_elements_1.png\"></img>"
   ]
  },
  {
   "cell_type": "markdown",
   "id": "f4041863",
   "metadata": {},
   "source": [
    "### Part I: Headings and body text\n",
    "---"
   ]
  },
  {
   "cell_type": "markdown",
   "id": "e9f40d30",
   "metadata": {},
   "source": [
    "In this part we are going to learn about some components that are used in headings and body text. These are fundamentals which we are going to require."
   ]
  },
  {
   "cell_type": "markdown",
   "id": "03ceec4d",
   "metadata": {},
   "source": [
    "##### `st.markdown`\n",
    "---"
   ]
  },
  {
   "cell_type": "markdown",
   "id": "6d580a2e",
   "metadata": {},
   "source": [
    "- It is a component to render Github-like MarkDown (.md) in the app's body. Syntax about this can be found in [here](https://github.github.com/gfm/). It can be quite helpful for real-life uses like any online guide."
   ]
  },
  {
   "cell_type": "markdown",
   "id": "e6688533",
   "metadata": {},
   "source": [
    "- The function signature is:\n",
    "st.markdown(`body`, `unsafe_allow_html`=`False`, `*`, `help`=`None`, `width`=`\"stretch\"`)"
   ]
  },
  {
   "cell_type": "markdown",
   "id": "175193e5",
   "metadata": {},
   "source": [
    "- To render the markdown, just enter the expression you want in the `body` parameter. It will work."
   ]
  },
  {
   "cell_type": "markdown",
   "id": "023988a0",
   "metadata": {},
   "source": [
    "- An example is provided below:"
   ]
  },
  {
   "cell_type": "code",
   "execution_count": null,
   "id": "2be8b4a0",
   "metadata": {},
   "outputs": [],
   "source": [
    "import streamlit as st\n",
    "\n",
    "st.markdown(\"*Streamlit* is **really** ***cool***.\") # These st.markdown()-s render Markdown\n",
    "st.markdown('''\n",
    "    :red[Streamlit] :orange[can] :green[write] :blue[text] :violet[in]\n",
    "    :gray[pretty] :rainbow[colors] and :blue-background[highlight] text.''')\n",
    "st.markdown(\"Here's a bouquet &mdash;\\\n",
    "            :tulip::cherry_blossom::rose::hibiscus::sunflower::blossom:\")\n",
    "\n",
    "multi = '''If you end a line with two spaces,\n",
    "a soft return is used for the next line.\n",
    "\n",
    "Two (or more) newline characters in a row will result in a hard return.\n",
    "'''\n",
    "st.markdown(multi)\n"
   ]
  },
  {
   "cell_type": "markdown",
   "id": "84bac42d",
   "metadata": {},
   "source": [
    "<img src=\"../media/text_elements_2.png\"></img>\n"
   ]
  },
  {
   "cell_type": "markdown",
   "id": "41b08179",
   "metadata": {},
   "source": [
    "##### `st.title`\n",
    "---"
   ]
  },
  {
   "cell_type": "markdown",
   "id": "29de24aa",
   "metadata": {},
   "source": [
    "- It is used to display a big text generally used to title the page."
   ]
  },
  {
   "cell_type": "markdown",
   "id": "29a60cd6",
   "metadata": {},
   "source": [
    "- It is based on `st.markdown`."
   ]
  },
  {
   "cell_type": "markdown",
   "id": "8588bb61",
   "metadata": {},
   "source": [
    "- The function signature is: st.title(`body`, `anchor`=`None`, `*`, `help`=`None`, `width`=`\"stretch\"`)"
   ]
  },
  {
   "cell_type": "markdown",
   "id": "8d3fbc07",
   "metadata": {},
   "source": [
    "- Like in most components, we have to use the `body` parameter to set the value of the data to be displayed."
   ]
  },
  {
   "cell_type": "markdown",
   "id": "16f424f7",
   "metadata": {},
   "source": [
    "- An example is given below:"
   ]
  },
  {
   "cell_type": "code",
   "execution_count": null,
   "id": "7d63e348",
   "metadata": {},
   "outputs": [],
   "source": [
    "import streamlit as st\n",
    "\n",
    "st.title(\"_Streamlit_ is :blue[cool] :sunglasses:\") # Will render the title\n",
    "# And also, when you will learn about `Paging` in the upcoming chapters, you will\n",
    "# find out that this can be pretty important.\n"
   ]
  },
  {
   "cell_type": "markdown",
   "id": "c69f225a",
   "metadata": {},
   "source": [
    "<img src=\"../media/text_elements_3.png\"></img>"
   ]
  },
  {
   "cell_type": "markdown",
   "id": "ff837f55",
   "metadata": {},
   "source": [
    "##### `st.header`\n",
    "---"
   ]
  },
  {
   "cell_type": "markdown",
   "id": "70b705f4",
   "metadata": {},
   "source": [
    "- It is used to display a quite smaller text relative to st.title but in header formatting."
   ]
  },
  {
   "cell_type": "markdown",
   "id": "cf95dc98",
   "metadata": {},
   "source": [
    "- It is based on `st.markdown`."
   ]
  },
  {
   "cell_type": "markdown",
   "id": "092729c4",
   "metadata": {},
   "source": [
    "- The function signature is: st.header(`body`, `anchor`=`None`, `*`, `help`=`None`, `divider`=`False`, `width`=`\"stretch\"`)"
   ]
  },
  {
   "cell_type": "markdown",
   "id": "f7550a9d",
   "metadata": {},
   "source": [
    "- Like in most components, we have to use the `body` parameter to set the value of the data to be displayed."
   ]
  },
  {
   "cell_type": "markdown",
   "id": "a1bff7a7",
   "metadata": {},
   "source": [
    "- An example is given below:"
   ]
  },
  {
   "cell_type": "code",
   "execution_count": null,
   "id": "8ede7167",
   "metadata": {},
   "outputs": [],
   "source": [
    "import streamlit as st\n",
    "\n",
    "st.header(\"_Streamlit_ is :blue[cool] :sunglasses:\") # A basic header\n",
    "st.header(\"This is a header with a divider\", divider=\"gray\") # This one has a divider as well as the next ones\n",
    "st.header(\"These headers have rotating dividers\", divider=True) # Here, in this context, `rotating` refers to the change in colors. \n",
    "                                                            # This happens when you create many subheaders one after another.\n",
    "st.header(\"One\", divider=True)\n",
    "st.header(\"Two\", divider=True)\n",
    "st.header(\"Three\", divider=True)\n",
    "st.header(\"Four\", divider=True)\n"
   ]
  },
  {
   "cell_type": "markdown",
   "id": "d2667a04",
   "metadata": {},
   "source": [
    "<img src=\"../media/text_elements_4.png\"></img>"
   ]
  },
  {
   "cell_type": "markdown",
   "id": "ccf206fb",
   "metadata": {},
   "source": [
    "##### `st.subheader`\n",
    "---"
   ]
  },
  {
   "cell_type": "markdown",
   "id": "a454c888",
   "metadata": {},
   "source": [
    "- It is used to display a sub-header, which is basically a smaller header. You can visually compare this to a header in the pictures and try to figure out the differences in the sizes."
   ]
  },
  {
   "cell_type": "markdown",
   "id": "9eaf1dcf",
   "metadata": {},
   "source": [
    "- It is based on `st.markdown`."
   ]
  },
  {
   "cell_type": "markdown",
   "id": "f8901763",
   "metadata": {},
   "source": [
    "- The function signature is: st.subheader(`body`, `anchor`=`None`, `*`, `help`=`None`, `divider`=`False`, `width`=`\"stretch\"`)"
   ]
  },
  {
   "cell_type": "markdown",
   "id": "bce864ad",
   "metadata": {},
   "source": [
    "- Like in most components, we have to use the `body` parameter to set the value of the data to be displayed."
   ]
  },
  {
   "cell_type": "markdown",
   "id": "6cc726fe",
   "metadata": {},
   "source": [
    "- An example is given below:"
   ]
  },
  {
   "cell_type": "code",
   "execution_count": null,
   "id": "1e117798",
   "metadata": {},
   "outputs": [],
   "source": [
    "import streamlit as st\n",
    "\n",
    "st.subheader(\"_Streamlit_ is :blue[cool] :sunglasses:\") # A subheader\n",
    "st.subheader(\"This is a subheader with a divider\", divider=\"gray\") # This one has a divider as well as the next ones\n",
    "st.subheader(\"These subheaders have rotating dividers\", divider=True) # Similarly stating, here, in this context, `rotating` refers to the change in colors. \n",
    "                                                                    # This happens when you create many subheaders one after another.\n",
    "st.subheader(\"One\", divider=True)\n",
    "st.subheader(\"Two\", divider=True)\n",
    "st.subheader(\"Three\", divider=True)\n",
    "st.subheader(\"Four\", divider=True)\n"
   ]
  },
  {
   "cell_type": "markdown",
   "id": "d2aa0ec0",
   "metadata": {},
   "source": [
    "<img src=\"../media/text_elements_5.png\">"
   ]
  },
  {
   "cell_type": "markdown",
   "id": "e4ae67ae",
   "metadata": {},
   "source": [
    "### Part II: Formatted text\n",
    "---"
   ]
  },
  {
   "cell_type": "markdown",
   "id": "0ee3d1f6",
   "metadata": {},
   "source": [
    "##### `st.badge`\n",
    "---"
   ]
  },
  {
   "cell_type": "markdown",
   "id": "23d490d1",
   "metadata": {},
   "source": [
    "- It displays a colored badge with a label and an icon (optionaally)."
   ]
  },
  {
   "cell_type": "markdown",
   "id": "c2337b6e",
   "metadata": {},
   "source": [
    "- It is just a wrapper around the Markdown color badge. These are the same: \n",
    "- ###### `st.markdown(\":blue-badge[Home]\")` `st.badge(\"Home\", color=\"blue\")`"
   ]
  },
  {
   "cell_type": "markdown",
   "id": "f33da2d1",
   "metadata": {},
   "source": [
    "- But generally, it is actually better and simpler to use `st.badge` instead."
   ]
  },
  {
   "cell_type": "markdown",
   "id": "a12f3bd9",
   "metadata": {},
   "source": [
    "- The function signature is: st.badge(`label`, `*`, `icon`=`None`, `color`=`\"blue\"`, `width`=`\"content\"`)"
   ]
  },
  {
   "cell_type": "markdown",
   "id": "7b8df9b7",
   "metadata": {},
   "source": [
    "- An example is as follows:"
   ]
  },
  {
   "cell_type": "code",
   "execution_count": null,
   "id": "adccb14d",
   "metadata": {},
   "outputs": [],
   "source": [
    "import streamlit as st\n",
    "\n",
    "st.badge(\"New\") # A `New` icon with a default blue-themed palette color system - a darker shade for the text \n",
    "                # and a lighter shade for the background.\n",
    "                \n",
    "st.badge(\"Success\", icon=\":material/check:\", color=\"green\") # A Success-themed badge with a `tick` icon from Material symbols based on Google's Material design system.\n",
    "# A whole list of them is available at https://fonts.google.com/icons.\n",
    "\n",
    "st.markdown(\n",
    "    \":violet-badge[:material/star: Favorite] :orange-badge[⚠️ Needs review] :gray-badge[Deprecated]\"\n",
    ") # A set of Markdown badges as well.\n"
   ]
  },
  {
   "cell_type": "markdown",
   "id": "eb97eff4",
   "metadata": {},
   "source": [
    "<img src=\"../media/text_elements_6.png\"></img>"
   ]
  },
  {
   "cell_type": "markdown",
   "id": "b34e2992",
   "metadata": {},
   "source": [
    "##### `st.caption`\n",
    "---"
   ]
  },
  {
   "cell_type": "markdown",
   "id": "4fd670fc",
   "metadata": {},
   "source": [
    "- Displays very small text which can be used for captions, footnotes etc."
   ]
  },
  {
   "cell_type": "markdown",
   "id": "71847ca7",
   "metadata": {},
   "source": [
    "- The function signature is: st.caption(`body`, `unsafe_allow_html`=`False`, `*`, `help`=`None`, `width`=`\"stretch\"`)"
   ]
  },
  {
   "cell_type": "markdown",
   "id": "80970a8f",
   "metadata": {},
   "source": [
    "- An example is given below:"
   ]
  },
  {
   "cell_type": "code",
   "execution_count": null,
   "id": "919fe688",
   "metadata": {},
   "outputs": [],
   "source": [
    "import streamlit as st\n",
    "\n",
    "# Caption with normal text.\n",
    "st.caption(\"This is a string that explains something above.\")\n",
    "\n",
    "# Caption with much formatting using Streamlit's system.\n",
    "st.caption(\"A caption with _italics_ :blue[colors] and emojis :sunglasses:\")\n"
   ]
  },
  {
   "cell_type": "markdown",
   "id": "a4a10846",
   "metadata": {},
   "source": [
    "<img src=\"../media/text_elements_7.png\"></img>"
   ]
  },
  {
   "cell_type": "markdown",
   "id": "ec484d0c",
   "metadata": {},
   "source": [
    "##### `st.code`\n",
    "---"
   ]
  },
  {
   "cell_type": "markdown",
   "id": "85da0bc0",
   "metadata": {},
   "source": [
    "- Display code block with option syntax highlighting."
   ]
  },
  {
   "cell_type": "markdown",
   "id": "9331836c",
   "metadata": {},
   "source": [
    "- This is quite useful as Streamlit exposes this function to display code in a beautifully colored manner and highlights keywords very well."
   ]
  },
  {
   "cell_type": "markdown",
   "id": "331daddb",
   "metadata": {},
   "source": [
    "- Also, if you hover towards the top right corner, you will see an icon-button with a copy sign appearing. If you click that, the code will get copied."
   ]
  },
  {
   "cell_type": "markdown",
   "id": "b4689a4f",
   "metadata": {},
   "source": [
    "- The functions signature is: st.code(`body`, `language`=`\"python\"`, `*`, `line_numbers`=`False`, `wrap_lines`=`False`, `height`=`\"content\"`, `width`=`\"stretch\"`)\n"
   ]
  },
  {
   "cell_type": "markdown",
   "id": "14b2250b",
   "metadata": {},
   "source": [
    "<details>\n",
    "<summary>Available languages that you can use in the `language` parameter:</summary>\n",
    "\n",
    "- abap\n",
    "- abnf\n",
    "- actionscript\n",
    "- ada\n",
    "- agda\n",
    "- al\n",
    "- antlr4\n",
    "- apacheconf\n",
    "- apex\n",
    "- apl\n",
    "- applescript\n",
    "- aql\n",
    "- arduino\n",
    "- arff\n",
    "- asciidoc\n",
    "- asm6502\n",
    "- asmatmel\n",
    "- aspnet\n",
    "- autohotkey\n",
    "- autoit\n",
    "- avisynth\n",
    "- avroIdl (avro-idl)\n",
    "- bash\n",
    "- basic\n",
    "- batch\n",
    "- bbcode\n",
    "- bicep\n",
    "- birb\n",
    "- bison\n",
    "- bnf\n",
    "- brainfuck\n",
    "- brightscript\n",
    "- bro\n",
    "- bsl\n",
    "- c\n",
    "- cfscript\n",
    "- chaiscript\n",
    "- cil\n",
    "- clike\n",
    "- clojure\n",
    "- cmake\n",
    "- cobol\n",
    "- coffeescript\n",
    "- concurnas\n",
    "- coq\n",
    "- cpp\n",
    "- crystal\n",
    "- csharp\n",
    "- cshtml\n",
    "- csp\n",
    "- cssExtras (css-extras)\n",
    "- css\n",
    "- csv\n",
    "- cypher\n",
    "- d\n",
    "- dart\n",
    "- dataweave\n",
    "- dax\n",
    "- dhall\n",
    "- diff\n",
    "- django\n",
    "- dnsZoneFile (dns-zone-file)\n",
    "- docker\n",
    "- dot\n",
    "- ebnf\n",
    "- editorconfig\n",
    "- eiffel\n",
    "- ejs\n",
    "- elixir\n",
    "- elm\n",
    "- erb\n",
    "- erlang\n",
    "- etlua\n",
    "- excelFormula (excel-formula)\n",
    "- factor\n",
    "- falselang (false)\n",
    "- firestoreSecurityRules (firestore-security-rules)\n",
    "- flow\n",
    "- fortran\n",
    "- fsharp\n",
    "- ftl\n",
    "- gap\n",
    "- gcode\n",
    "- gdscript\n",
    "- gedcom\n",
    "- gherkin\n",
    "- git\n",
    "- glsl\n",
    "- gml\n",
    "- gn\n",
    "- goModule (go-module)\n",
    "- go\n",
    "- graphql\n",
    "- groovy\n",
    "- haml\n",
    "- handlebars\n",
    "- haskell\n",
    "- haxe\n",
    "- hcl\n",
    "- hlsl\n",
    "- hoon\n",
    "- hpkp\n",
    "- hsts\n",
    "- http\n",
    "- ichigojam\n",
    "- icon\n",
    "- icuMessageFormat (icu-message-format)\n",
    "- idris\n",
    "- iecst\n",
    "- ignore\n",
    "- inform7\n",
    "- ini\n",
    "- io\n",
    "- j\n",
    "- java\n",
    "- javadoc\n",
    "- javadoclike\n",
    "- javascript\n",
    "- javastacktrace\n",
    "- jexl\n",
    "- jolie\n",
    "- jq\n",
    "- jsExtras (js-extras)\n",
    "- jsTemplates (js-templates)\n",
    "- jsdoc\n",
    "- json\n",
    "- json5\n",
    "- jsonp\n",
    "- jsstacktrace\n",
    "- jsx\n",
    "- julia\n",
    "- keepalived\n",
    "- keyman\n",
    "- kotlin\n",
    "- kumir\n",
    "- kusto\n",
    "- latex\n",
    "- latte\n",
    "- less\n",
    "- lilypond\n",
    "- liquid\n",
    "- lisp\n",
    "- livescript\n",
    "- llvm\n",
    "- log\n",
    "- lolcode\n",
    "- lua\n",
    "- magma\n",
    "- makefile\n",
    "- markdown\n",
    "- markupTemplating (markup-templating)\n",
    "- markup\n",
    "- matlab\n",
    "- maxscript\n",
    "- mel\n",
    "- mermaid\n",
    "- mizar\n",
    "- mongodb\n",
    "- monkey\n",
    "- moonscript\n",
    "- n1ql\n",
    "- n4js\n",
    "- nand2tetrisHdl (nand2tetris-hdl)\n",
    "- naniscript\n",
    "- nasm\n",
    "- neon\n",
    "- nevod\n",
    "- nginx\n",
    "- nim\n",
    "- nix\n",
    "- nsis\n",
    "- objectivec\n",
    "- ocaml\n",
    "- opencl\n",
    "- openqasm\n",
    "- oz\n",
    "- parigp\n",
    "- parser\n",
    "- pascal\n",
    "- pascaligo\n",
    "- pcaxis\n",
    "- peoplecode\n",
    "- perl\n",
    "- phpExtras (php-extras)\n",
    "- php\n",
    "- phpdoc\n",
    "- plsql\n",
    "- powerquery\n",
    "- powershell\n",
    "- processing\n",
    "- prolog\n",
    "- promql\n",
    "- properties\n",
    "- protobuf\n",
    "- psl\n",
    "- pug\n",
    "- puppet\n",
    "- pure\n",
    "- purebasic\n",
    "- purescript\n",
    "- python\n",
    "- q\n",
    "- qml\n",
    "- qore\n",
    "- qsharp\n",
    "- r\n",
    "- racket\n",
    "- reason\n",
    "- regex\n",
    "- rego\n",
    "- renpy\n",
    "- rest\n",
    "- rip\n",
    "- roboconf\n",
    "- robotframework\n",
    "- ruby\n",
    "- rust\n",
    "- sas\n",
    "- sass\n",
    "- scala\n",
    "- scheme\n",
    "- scss\n",
    "- shellSession (shell-session)\n",
    "- smali\n",
    "- smalltalk\n",
    "- smarty\n",
    "- sml\n",
    "- solidity\n",
    "- solutionFile (solution-file)\n",
    "- soy\n",
    "- sparql\n",
    "- splunkSpl (splunk-spl)\n",
    "- sqf\n",
    "- sql\n",
    "- squirrel\n",
    "- stan\n",
    "- stylus\n",
    "- swift\n",
    "- systemd\n",
    "- t4Cs (t4-cs)\n",
    "- t4Templating (t4-templating)\n",
    "- t4Vb (t4-vb)\n",
    "- tap\n",
    "- tcl\n",
    "- textile\n",
    "- toml\n",
    "- tremor\n",
    "- tsx\n",
    "- tt2\n",
    "- turtle\n",
    "- twig\n",
    "- typescript\n",
    "- typoscript\n",
    "- unrealscript\n",
    "- uorazor\n",
    "- uri\n",
    "- v\n",
    "- vala\n",
    "- vbnet\n",
    "- velocity\n",
    "- verilog\n",
    "- vhdl\n",
    "- vim\n",
    "- visualBasic (visual-basic)\n",
    "- warpscript\n",
    "- wasm\n",
    "- webIdl (web-idl)\n",
    "- wiki\n",
    "- wolfram\n",
    "- wren\n",
    "- xeora\n",
    "- xmlDoc (xml-doc)\n",
    "- xojo\n",
    "- xquery\n",
    "- yaml\n",
    "- yang\n",
    "- zig\n",
    "\n",
    "</details>\n"
   ]
  },
  {
   "cell_type": "markdown",
   "id": "53573c48",
   "metadata": {},
   "source": [
    "- An example is given below:"
   ]
  },
  {
   "cell_type": "code",
   "execution_count": null,
   "id": "38f8eb3a",
   "metadata": {},
   "outputs": [],
   "source": [
    "import streamlit as st\n",
    "\n",
    "# The code we want to render inside the code block.\n",
    "code = '''def hello():\n",
    "    print(\"Hello, Streamlit!\")'''\n",
    "    \n",
    "# The code block.\n",
    "st.code(code, language=\"python\")\n"
   ]
  },
  {
   "cell_type": "markdown",
   "id": "afade164",
   "metadata": {},
   "source": [
    "<img src=\"../media/text_elements_8.png\"></img>\n"
   ]
  },
  {
   "cell_type": "markdown",
   "id": "c82a64cb",
   "metadata": {},
   "source": [
    "##### `st.divider`\n",
    "---"
   ]
  },
  {
   "cell_type": "markdown",
   "id": "856567d2",
   "metadata": {},
   "source": [
    "- This displays a horizontal rule, similar to the `hr` element in HTML. You can also achieve this using `st.write(\"---\")` or even just `\"---\"` via the `Magic` feature as discussed earlier."
   ]
  },
  {
   "cell_type": "markdown",
   "id": "da6f99ed",
   "metadata": {},
   "source": [
    "- The function signature is: st.divider(`*`, `width`=`\"stretch\"`)"
   ]
  },
  {
   "cell_type": "markdown",
   "id": "0e44940b",
   "metadata": {},
   "source": [
    "- You can also control the width of the divider by setting the `width` parameter to a certain value in `pixels` or `px`."
   ]
  },
  {
   "cell_type": "markdown",
   "id": "c30f4a22",
   "metadata": {},
   "source": [
    "- For example:"
   ]
  },
  {
   "cell_type": "code",
   "execution_count": null,
   "id": "c78146c2",
   "metadata": {},
   "outputs": [],
   "source": [
    "import streamlit as st\n",
    "\n",
    "st.title(\"I love Streamlit! 💖\") # The Title\n",
    "st.divider() # The Divider\n",
    "st.header(\"Streamlit has many awesome features! 🌟\") # A Header\n"
   ]
  },
  {
   "cell_type": "markdown",
   "id": "fb499fc7",
   "metadata": {},
   "source": [
    "<img src=\"../media/text_elements_9.png\"></img>"
   ]
  },
  {
   "cell_type": "markdown",
   "id": "e1b2a692",
   "metadata": {},
   "source": [
    "##### `st.echo`\n",
    "---"
   ]
  },
  {
   "cell_type": "markdown",
   "id": "695be551",
   "metadata": {},
   "source": [
    "- Use it in a `with` block to render some code on the app and also execute it later on."
   ]
  },
  {
   "cell_type": "markdown",
   "id": "3b0d7c61",
   "metadata": {},
   "source": [
    "- This is pretty useful for code demos within a Streamlit app."
   ]
  },
  {
   "cell_type": "markdown",
   "id": "5256440a",
   "metadata": {},
   "source": [
    "- The function signature is: st.echo(`code_location`=`\"above\"`)"
   ]
  },
  {
   "cell_type": "markdown",
   "id": "52429ae8",
   "metadata": {},
   "source": [
    "- You can set the value of `code_location` to either `\"above\"` or `\"below\"` depending on whether to show the echoed code before or after the results of the executed code block respectively."
   ]
  },
  {
   "cell_type": "markdown",
   "id": "580b1020",
   "metadata": {},
   "source": [
    "- For example:"
   ]
  },
  {
   "cell_type": "code",
   "execution_count": null,
   "id": "5dc0b774",
   "metadata": {},
   "outputs": [],
   "source": [
    "import streamlit as st\n",
    "\n",
    "with st.echo(): # Start echoing with the `with` block\n",
    "    st.write('This code will be printed') # The body of the app will render a code block of this certain code\n",
    "                                        # and then will also render the output of this code\n",
    "    "
   ]
  },
  {
   "cell_type": "markdown",
   "id": "89ebf2d8",
   "metadata": {},
   "source": [
    "<img src=\"../media/text_elements_10.png\"></img>"
   ]
  },
  {
   "cell_type": "markdown",
   "id": "047f37a0",
   "metadata": {},
   "source": [
    "##### `st.text`\n",
    "---"
   ]
  },
  {
   "cell_type": "markdown",
   "id": "28ab152b",
   "metadata": {},
   "source": [
    "- This writing component is used to display text without `Markdown` or `HTML` parsing, which means that there is no way to render any `Markdown` or `HTML` code by using it, in simpler words."
   ]
  },
  {
   "cell_type": "markdown",
   "id": "ecaae25a",
   "metadata": {},
   "source": [
    "- This could be used for many safety purposes and prevent wrong and harmful code from being executed."
   ]
  },
  {
   "cell_type": "markdown",
   "id": "ffc9200a",
   "metadata": {},
   "source": [
    "- The function signature is: st.text(`body`, `*`, `help`=`None`, `width`=`\"content\"`)"
   ]
  },
  {
   "cell_type": "markdown",
   "id": "9c48783c",
   "metadata": {},
   "source": [
    "- For example:"
   ]
  },
  {
   "cell_type": "code",
   "execution_count": null,
   "id": "6f686b48",
   "metadata": {},
   "outputs": [],
   "source": [
    "import streamlit as st\n",
    "\n",
    "# Safe Text\n",
    "st.text(\"This is text\\n[and more text](that's not a Markdown link).\")\n"
   ]
  },
  {
   "cell_type": "markdown",
   "id": "b625a3e1",
   "metadata": {},
   "source": [
    "<img src=\"../media/text_elements_11.png\"></img>"
   ]
  },
  {
   "cell_type": "markdown",
   "id": "408f1450",
   "metadata": {},
   "source": [
    "##### `st.help`\n",
    "---"
   ]
  },
  {
   "cell_type": "markdown",
   "id": "a8c829d2",
   "metadata": {},
   "source": [
    "- Used to display help and other information for a given object. Helpful for a clear understanding of a Pythonic object."
   ]
  },
  {
   "cell_type": "markdown",
   "id": "2fad629e",
   "metadata": {},
   "source": [
    "- The function signature is: st.help(`obj`=, `*`, `width`=`\"stretch\"`)"
   ]
  },
  {
   "cell_type": "markdown",
   "id": "1942f887",
   "metadata": {},
   "source": [
    "- To get help for a certain Pythonic object, use it in the `obj` parameter."
   ]
  },
  {
   "cell_type": "markdown",
   "id": "6377744b",
   "metadata": {},
   "source": [
    "- An example is provided below:"
   ]
  },
  {
   "cell_type": "code",
   "execution_count": null,
   "id": "f76d1af6",
   "metadata": {},
   "outputs": [],
   "source": [
    "import streamlit as st\n",
    "import pandas\n",
    "\n",
    "st.help(pandas.DataFrame) # get help for the pandas DataFrame class\n"
   ]
  },
  {
   "cell_type": "markdown",
   "id": "1f9e7b82",
   "metadata": {},
   "source": [
    "<img src=\"../media/text_elements_12.png\"></img>"
   ]
  },
  {
   "cell_type": "markdown",
   "id": "e1ac0ec1",
   "metadata": {},
   "source": [
    "##### `st.html`\n",
    "---"
   ]
  },
  {
   "cell_type": "markdown",
   "id": "d530d40c",
   "metadata": {},
   "source": [
    "- Used to insert `HTML` in your app."
   ]
  },
  {
   "cell_type": "markdown",
   "id": "b8409a40",
   "metadata": {},
   "source": [
    "- The `HTML` is sanitized using `DOMPurify`."
   ]
  },
  {
   "cell_type": "markdown",
   "id": "8ec6608f",
   "metadata": {},
   "source": [
    "- There is no `JavaScript` support yet at the time of writing."
   ]
  },
  {
   "cell_type": "markdown",
   "id": "3dfc72b8",
   "metadata": {},
   "source": [
    "- The function signature is: st.html(`body`, `*`, `width`=`\"stretch\"`)"
   ]
  }
 ],
 "metadata": {
  "kernelspec": {
   "display_name": "Python 3",
   "language": "python",
   "name": "python3"
  },
  "language_info": {
   "codemirror_mode": {
    "name": "ipython",
    "version": 3
   },
   "file_extension": ".py",
   "mimetype": "text/x-python",
   "name": "python",
   "nbconvert_exporter": "python",
   "pygments_lexer": "ipython3",
   "version": "3.13.5"
  }
 },
 "nbformat": 4,
 "nbformat_minor": 5
}
