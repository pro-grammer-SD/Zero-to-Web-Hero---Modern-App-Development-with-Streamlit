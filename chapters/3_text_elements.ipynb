{
 "cells": [
  {
   "cell_type": "markdown",
   "id": "36b02245",
   "metadata": {},
   "source": [
    "# Chapter 3: Text Elements\n",
    "---"
   ]
  },
  {
   "cell_type": "markdown",
   "id": "ad6b0e7c",
   "metadata": {},
   "source": [
    "Hello and welcome back! In this chapter, we are going to continue learning more about Components. In this chapter, we are going to learn about Text Elements."
   ]
  },
  {
   "cell_type": "markdown",
   "id": "938c2b9b",
   "metadata": {},
   "source": [
    "So, you might have been familiar with HTML tags such as `h1`, `h2`, `p`, right? Well, what Streamlit did, is that they created components by implementing these existing tags to make a cooler text system. They not only used HTML tags, but they even extended this to many other components, including `LaTeX`! We will now start exploring such text elements."
   ]
  },
  {
   "cell_type": "markdown",
   "id": "a0646646",
   "metadata": {},
   "source": [
    "<img src=\"../media/text_elements_1.png\"></img>"
   ]
  }
 ],
 "metadata": {
  "language_info": {
   "name": "python"
  }
 },
 "nbformat": 4,
 "nbformat_minor": 5
}
