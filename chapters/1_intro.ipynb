{
 "cells": [
  {
   "cell_type": "markdown",
   "id": "75a56297",
   "metadata": {},
   "source": [
    "## Chapter 1: An Introduction to Streamlit\n",
    "___"
   ]
  },
  {
   "cell_type": "markdown",
   "id": "04c2ad06",
   "metadata": {
    "vscode": {
     "languageId": "html"
    }
   },
   "source": [
    "<video width=\"640\" controls>\n",
    "  <source src=\"../media/hero-video.mp4\" type=\"video/mp4\">\n",
    "</video>\n"
   ]
  },
  {
   "cell_type": "markdown",
   "id": "2722c204",
   "metadata": {},
   "source": [
    "### Streamlit - What it is:\n",
    "---"
   ]
  },
  {
   "cell_type": "markdown",
   "id": "b7f13316",
   "metadata": {},
   "source": [
    "- Streamlit is a modern and simple Web framework which helps you to make PRODUCTION-level web apps (primarily for data science), at a very fast pace."
   ]
  },
  {
   "cell_type": "markdown",
   "id": "b08603cf",
   "metadata": {},
   "source": [
    "- It works by using prebuilt JavaScript Web components based on React and passing parameters from Python and then it renders."
   ]
  },
  {
   "cell_type": "markdown",
   "id": "448f06ee",
   "metadata": {},
   "source": [
    "- You can explore their website by clicking [here](https://streamlit.io)."
   ]
  },
  {
   "cell_type": "markdown",
   "id": "99e5a498",
   "metadata": {},
   "source": [
    "### Setting things up:\n",
    "---"
   ]
  },
  {
   "cell_type": "markdown",
   "id": "381a6206",
   "metadata": {},
   "source": [
    "- IMPORTANT: This book assumes you have the latest version of Python installed. Otherwise, the following procedures will not work."
   ]
  },
  {
   "cell_type": "markdown",
   "id": "ceda22dd",
   "metadata": {},
   "source": [
    "- So, open your terminal and quickly run this command:"
   ]
  },
  {
   "cell_type": "code",
   "execution_count": null,
   "id": "0cd7c1bd",
   "metadata": {
    "vscode": {
     "languageId": "bat"
    }
   },
   "outputs": [],
   "source": [
    "pip install streamlit"
   ]
  },
  {
   "cell_type": "markdown",
   "id": "148fbee5",
   "metadata": {},
   "source": [
    "or if you have multiple Python installations, use the major and the minor numbers of the latest version, seperated by a point (.), followed after `pip`. Such as if you have 3.13 of Python on your system, then the command should be:"
   ]
  },
  {
   "cell_type": "code",
   "execution_count": null,
   "id": "027df99a",
   "metadata": {
    "vscode": {
     "languageId": "bat"
    }
   },
   "outputs": [],
   "source": [
    "pip3.13 install streamlit"
   ]
  },
  {
   "cell_type": "markdown",
   "id": "ee35c1cb",
   "metadata": {},
   "source": [
    "### Then run this for a demo:"
   ]
  },
  {
   "cell_type": "code",
   "execution_count": null,
   "id": "05df682d",
   "metadata": {},
   "outputs": [],
   "source": [
    "import threading, os\n",
    "from IPython.display import IFrame\n",
    "\n",
    "def run_streamlit():\n",
    "    os.system(\"streamlit hello --server.headless true --server.port 8501\")\n",
    "\n",
    "threading.Thread(target=run_streamlit, daemon=True).start()\n",
    "IFrame(src=\"http://localhost:8501\", width=\"100%\", height=\"600\")\n"
   ]
  }
 ],
 "metadata": {
  "kernelspec": {
   "display_name": "Python 3",
   "language": "python",
   "name": "python3"
  },
  "language_info": {
   "codemirror_mode": {
    "name": "ipython",
    "version": 3
   },
   "file_extension": ".py",
   "mimetype": "text/x-python",
   "name": "python",
   "nbconvert_exporter": "python",
   "pygments_lexer": "ipython3",
   "version": "3.13.5"
  }
 },
 "nbformat": 4,
 "nbformat_minor": 5
}
